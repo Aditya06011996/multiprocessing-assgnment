{
 "cells": [
  {
   "cell_type": "markdown",
   "id": "edd8bde5-39ac-4f68-8e73-00aba3db74f2",
   "metadata": {},
   "source": [
    "Q 1 What is multiprocessing in python? Why is it useful?"
   ]
  },
  {
   "cell_type": "markdown",
   "id": "cae2904e-9948-45c3-9230-9580fbb37d92",
   "metadata": {},
   "source": [
    "Ans Multiprocessing in Python refers  to the ability of the python programming language to utilize multiple processors or cores to execute multiple tasks or processes simultaneously. It provides a way to run multiple processes in parallel, taking advantage of the available hardware resources. \n",
    "\n",
    "Python's multiprocessing module provides a high level interface for creating and managing parallel processes. It allows you to spawn multiple processes, each of which can run independently and perform tasks concurrently. These processes can communicate with each other, share data, and synchronize their execution.\n",
    "\n",
    "Here are some reasons why multiprocessing in python is useful:\n",
    "\n",
    "1.Increased Performance : By utilizing multiple processors or cores, multiprocessing can significantly improve the performance  and execution speed of CPU-intensive tasks. It allows you to distribute the workload across multiple processes, making better use of the available computational resources.\n",
    "\n",
    "2.Parallel Execution : Multiprocessing enables parallel execution of tasks, where multiple processes can work on differnt parts of a problem simultaneously. This is especially beneficial for computationally intensive tasks such as numerical computations, data processing, image or video processing, and simulations.\n",
    "\n",
    "3.Improved Responsiveness : By offloading heavy tasks to separate processes, multiprocessing helps prevent the main program from being blocked or unresponsive. It allows you to run time-consuming tasks in the background while the main program remains interactive and responsive to user input.\n",
    "\n",
    "4.Scalability : Multiprocessing allows you to scale your applications to take advantage of multi-core or multi-processor systems. It enables you to harness the power of additional cores as they become available, thereby improving the scalability and efficiency of your code. "
   ]
  },
  {
   "cell_type": "markdown",
   "id": "9c9ce64a-0a7b-4176-90d1-52f47fbad83f",
   "metadata": {},
   "source": [
    "Q 2 What are the differneces between multliprocessing and multithreading?"
   ]
  },
  {
   "cell_type": "markdown",
   "id": "87a5302e-1dce-4412-905f-18a92272ce02",
   "metadata": {},
   "source": [
    "Ans Multiprocessing and Multithreading are two techniques used in concurrent programming to achieve parallelism and improve the performance of programs. While they both involve executing multiple tasks concurrently, there are some key differnces between the two: \n",
    "\n",
    "1.Execution Model :\n",
    "  Multiprocessing : In multiprocessing, multiple processes are created, each with its own memory space and resources. These processes run independently of each other and can execute tasks simultaneously on multiple CPU cores.\n",
    "  Multithreading : In multithreading, multiple threads are created within a single process. Threads share the same memory space and resources of the process, and they can run concurrently. Threads are lighter are lighter-weight than processes, as they require fewer resources to create and switch between.\n",
    "  \n",
    "2.Memory Space : \n",
    "  Multiprocessing : Each process has its own memory space. This means that data must be explicitly shared between processes using inter-process communication mechanisms, such as pipes or shared memory. \n",
    "  Multithreading : Threads share the same memory space within a process. They can directly access and modify variables and data structures in the process's memory. However, this shared memory can lead to synchronization issues and requires careful managemnent to avoid data races and other concurrency problems. \n",
    "  \n",
    "3.Communication and Synchronization : \n",
    "  Multiprocessing : Communication between processes can be more complex, as they typically rely on inter-process communication mechanisms like message passing or shared memory. Synchronization between processes can be achieved using techniques like locks, semaphores , or other inter-process synchronization primitives.\n",
    "  Multithreading : Communication between threads is relatively straightforward, as they can directly access shared memory. However, this can lead to synchronization issues if multiple threads try to modify shared data simultaneously. Synchronization mechanisms like locks, mutexes, and condition variables are used to coordinate access to shared resources and avoid data races. \n",
    "  \n",
    "4.Fault Isolation :\n",
    "  Multiprocessing : Each process runs in its own isolated memory space, so if one process crashes or encounters an error, it does not affect other processes. Faults in one process are unlikely to bring down the entire system. \n",
    "  Multithreading : Threads share the same memory space, so if one thread crashes or encounters an error, it can potentially impact the entire process, leading to a crash or unstable behavior."
   ]
  },
  {
   "cell_type": "markdown",
   "id": "f6a99bc5-0165-4b0d-8882-147480976172",
   "metadata": {},
   "source": [
    "Q 3 Write a python code to create a process using the multiprocessing module."
   ]
  },
  {
   "cell_type": "code",
   "execution_count": 1,
   "id": "b0dfc7eb-d1c3-404e-8693-2babccc37740",
   "metadata": {},
   "outputs": [
    {
     "name": "stdout",
     "output_type": "stream",
     "text": [
      "Worker process executing\n",
      "Main process exiting\n"
     ]
    }
   ],
   "source": [
    "import multiprocessing\n",
    "\n",
    "def worker():\n",
    "    \"\"\"Function to be executed by the child process\"\"\"\n",
    "    print(\"Worker process executing\")\n",
    "    \n",
    "if __name__ == \"__main__\":\n",
    "    #Create a new process\n",
    "    process = multiprocessing.Process(target = worker)\n",
    "    \n",
    "    #Start the process\n",
    "    process.start()\n",
    "    \n",
    "    #Wait for the process to finish\n",
    "    process.join()\n",
    "    \n",
    "    print(\"Main process exiting\")"
   ]
  },
  {
   "cell_type": "markdown",
   "id": "2d6beb03-4447-4f3c-a9b7-cc4f3a38d96f",
   "metadata": {},
   "source": [
    "Q 4 What is a multiprocessing pool in python? Why is it used?"
   ]
  },
  {
   "cell_type": "markdown",
   "id": "e3ee0cd8-e8d8-4939-8aa1-61c3905ab58a",
   "metadata": {},
   "source": [
    "In Python , a multiprocessing pool refers to a mechanism provided by the multiprocessing module that allows you to create a pool of worker processes to execute tasks in parallel. The Pool class in the multiprocessing module provides a convenient way to distribute the workload across multiple processes and efficiently utilize the available CPU cores.\n",
    "\n",
    "Here's an overview of how multiprocessing pools work and why they are used : \n",
    "\n",
    "1.Creating a Pool : \n",
    " You can create a multiprocessing pool by instantiating the multiprocessing.Pool class and specifying the number of worker processes to use. \n",
    " for example : pool = multiprocessing.Pool(processes = 4)\n",
    " \n",
    "2.Parallel execution : The pool enables parallel execution of functions. It divides the workload into smaller tasks and distributes them across the available processors, allowing multiple tasks to be executed simultaneously. This can significantly speed up the execution time for computationally intensive or time consuming tasks. \n",
    "\n",
    "3.Utilizing Multiple Cores : Modern computers often have multiple processor cores. By using a multiprocessing pool, you can make use of all available cores, effectively harnessing the full potential of your hardware.\n",
    "\n",
    "4.Improved Responsiveness : When performing tasks that involve blocking operations, such as waiting for I/O operations (e.g., file reading/ writing, network requests), a multiprocessing pool can help improve overall responsiveness. While one process is waiting for an I/O operation to complete, other processes can continue executing their tasks, maximizing resource utilization.\n",
    "\n",
    "5.Simplified API : The 'Pool' class provides a simple and intuitive interface for managing parallel tasks . It abstracts away the complexities of process creation, inter-process communication, and synchronization. You can focus on writing the core logic of your program while leveraging the power of parallel processing. "
   ]
  },
  {
   "cell_type": "markdown",
   "id": "6a78a91c-0508-4c84-b7ff-c34d7f42c053",
   "metadata": {},
   "source": [
    "Q 5 How can we create a pool of worker processes in python using the multiprocessing module?"
   ]
  },
  {
   "cell_type": "markdown",
   "id": "9d138c8e-475b-4338-81cc-8875620b51f9",
   "metadata": {},
   "source": [
    "Ans To create a pool of worker processes in Python using the multilprocessing module, you can follow these steps:\n",
    "\n",
    "1.Import the necessary module : Begin by importing the multiprocessing moduel \n",
    "\n",
    "2.Define the function to be executed in parallel : create a function that will be executed by each worker process in the pool. This function should encapsulate the task you want to parallelize. \n",
    "\n",
    "3.Create a Pool object : Instantiate a pool object, specifying the desired number of worker processes. If you don't specify a value, it will default to the number of available CPU cores.\n",
    "\n",
    "4.Distribute tasks to the pool : Use the 'apply()' or 'map()' method to distribute tasks to the worker processes. The 'apply()' method allows you to submit individual tasks , while the map() method accepts an iterable and applies the function to each element in parallel.\n",
    "\n",
    "5.Clean up the pool : After all the tasks have been completed, it's important to properly clean up the resources. Call the 'close()' method to prevent any new tasks from being submitted to the pool, and then call 'join()' to wait for all tasks to finish."
   ]
  },
  {
   "cell_type": "code",
   "execution_count": 1,
   "id": "766db9b6-ee31-492e-940f-c40195762d3e",
   "metadata": {},
   "outputs": [
    {
     "name": "stdout",
     "output_type": "stream",
     "text": [
      "10\n"
     ]
    }
   ],
   "source": [
    "import multiprocessing\n",
    "\n",
    "def double_number(num):\n",
    "    return num * 2\n",
    "\n",
    "num_processes = 4 \n",
    "pool = multiprocessing.Pool(processes = num_processes)\n",
    "\n",
    "result = pool.apply(double_number, args = (5,))\n",
    "print(result)"
   ]
  },
  {
   "cell_type": "code",
   "execution_count": 2,
   "id": "e85a2421-c185-4fc7-a45b-023414b1cfe4",
   "metadata": {},
   "outputs": [
    {
     "name": "stdout",
     "output_type": "stream",
     "text": [
      "[2, 4, 6, 8, 10]\n"
     ]
    }
   ],
   "source": [
    "numbers = [1,2,3,4,5]\n",
    "results = pool.map(double_number, numbers)\n",
    "print(results)"
   ]
  },
  {
   "cell_type": "code",
   "execution_count": 3,
   "id": "50a6568a-5a0f-46df-8646-7c8af77911bc",
   "metadata": {},
   "outputs": [],
   "source": [
    "pool.close()\n",
    "pool.join()"
   ]
  },
  {
   "cell_type": "markdown",
   "id": "cc96dc36-68b1-447c-a8d1-b0944e29487d",
   "metadata": {},
   "source": [
    "Q 6 Write a python program to create 4 processes, each process should print a different number using the multiprocessing module in python."
   ]
  },
  {
   "cell_type": "code",
   "execution_count": 4,
   "id": "ac04b6c5-88dd-427f-91f8-d3427f799ccd",
   "metadata": {},
   "outputs": [
    {
     "name": "stdout",
     "output_type": "stream",
     "text": [
      "1\n",
      "2\n",
      "3\n",
      "4\n"
     ]
    }
   ],
   "source": [
    "import multiprocessing\n",
    "\n",
    "def print_number(num):\n",
    "    print(num)\n",
    "    \n",
    "if __name__ == '__main__' : \n",
    "    processes = []\n",
    "    numbers = [1,2,3,4]\n",
    "    \n",
    "    for num in numbers:\n",
    "        process = multiprocessing.Process(target = print_number, args = (num,))\n",
    "        processes.append(process)\n",
    "        process.start()\n",
    "        \n",
    "    for process in processes:\n",
    "        process.join()"
   ]
  },
  {
   "cell_type": "code",
   "execution_count": null,
   "id": "eaedc6ca-4772-4634-be78-e3e998135cca",
   "metadata": {},
   "outputs": [],
   "source": []
  }
 ],
 "metadata": {
  "kernelspec": {
   "display_name": "Python 3 (ipykernel)",
   "language": "python",
   "name": "python3"
  },
  "language_info": {
   "codemirror_mode": {
    "name": "ipython",
    "version": 3
   },
   "file_extension": ".py",
   "mimetype": "text/x-python",
   "name": "python",
   "nbconvert_exporter": "python",
   "pygments_lexer": "ipython3",
   "version": "3.10.8"
  }
 },
 "nbformat": 4,
 "nbformat_minor": 5
}
